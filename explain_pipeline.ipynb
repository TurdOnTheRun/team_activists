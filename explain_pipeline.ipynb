{
 "cells": [
  {
   "cell_type": "markdown",
   "metadata": {},
   "source": [
    "Import `joblib` from `sklearn.externals` and `numpy` as `np`.\n",
    "Also import `pandas` as `pd` and `csv`"
   ]
  },
  {
   "cell_type": "code",
   "execution_count": null,
   "metadata": {},
   "outputs": [],
   "source": [
    "import ..."
   ]
  },
  {
   "cell_type": "markdown",
   "metadata": {},
   "source": [
    "## load model\n",
    "\n",
    "Use `joblib.load()` to load and store the model file 'stolen_model.pkl'."
   ]
  },
  {
   "cell_type": "code",
   "execution_count": null,
   "metadata": {},
   "outputs": [],
   "source": [
    "model = ..."
   ]
  },
  {
   "cell_type": "markdown",
   "metadata": {},
   "source": [
    "## Top 10 attributes class 1\n",
    "\n",
    "To extract the top 10 attributes leading to one class, we take advantage of our knowledge about the underlying pipeline. The pipeline has a step named `'lin_svc'` that contains the support vector machine. Use `named_steps[]` to get this step from the pipeline and call `coef_[0]` to receive the coefficients/weights from the SVM. - store the results into a variable called 'weights'. The sorting by weight has been done for you, you only have to get the top 10 features from the weights list."
   ]
  },
  {
   "cell_type": "code",
   "execution_count": null,
   "metadata": {},
   "outputs": [],
   "source": [
    "weights = ...\n",
    "weights.toarray()\n",
    "sorted_index = np.argsort(weights[0])[::-1]\n",
    "top_10 = sorted_index[: ...]"
   ]
  },
  {
   "cell_type": "markdown",
   "metadata": {},
   "source": [
    "Now that we have the weights we are interested in, we need to connect them to the corresponding terms. Get the named step `'tfidv'` from the pipeline and call `get_feature_names()` to store the terms as a new variable."
   ]
  },
  {
   "cell_type": "code",
   "execution_count": null,
   "metadata": {},
   "outputs": [],
   "source": [
    "terms = ...\n",
    "\n",
    "for idx in top_10:\n",
    "    print(terms[idx])"
   ]
  },
  {
   "cell_type": "markdown",
   "metadata": {},
   "source": [
    "## Top 10 attributes class 2"
   ]
  },
  {
   "cell_type": "markdown",
   "metadata": {},
   "source": [
    "Extract the top 10 attributes determining the second class (the right dimension has already been selected for you)."
   ]
  },
  {
   "cell_type": "code",
   "execution_count": null,
   "metadata": {},
   "outputs": [],
   "source": [
    "weights = ...\n",
    "weights.toarray()\n",
    "sorted_index = np.argsort(weights[0])[::1]\n",
    "top_10 = ..\n",
    "terms = ...\n",
    "for ind in top_10:\n",
    "    print(terms[ind])"
   ]
  },
  {
   "cell_type": "markdown",
   "metadata": {},
   "source": [
    "## lime"
   ]
  },
  {
   "cell_type": "markdown",
   "metadata": {},
   "source": [
    "Create list of size 2 with the elements 'activist' and 'public' in this order and assign it to `class_names`. Create a LimeTextExplainer(), passing `class_names = class_names`. Use the `explain_instance` function (pass a text to explain as the first argument, `model.predict_proba` and `num_features=10`) and save the result to exp."
   ]
  },
  {
   "cell_type": "code",
   "execution_count": null,
   "metadata": {},
   "outputs": [],
   "source": [
    "# use lime to explain the prediction result of a test string\n",
    "from lime import lime_text\n",
    "from lime.lime_text import LimeTextExplainer\n",
    "\n",
    "class_names = ...\n",
    "explainer = ...\n",
    "exp = explainer.explain_instance(... , ... , ...)\n",
    "exp.as_list()"
   ]
  },
  {
   "cell_type": "code",
   "execution_count": null,
   "metadata": {},
   "outputs": [],
   "source": [
    "# use the built-in lime visualizations\n",
    "%matplotlib inline\n",
    "fig = exp.as_pyplot_figure()\n",
    "exp.show_in_notebook(text=True)"
   ]
  },
  {
   "cell_type": "markdown",
   "metadata": {},
   "source": [
    "## eli5\n",
    "\n",
    "**eli5** is a python package that has been built on top of lime and a couple of other explainable AI projects. Use eli5's `show_weights()` function, giving it the named step 'lin_svc' as first argument and as `vec`. Additionally define the number of features you are interested in by setting `top` to an integer of your choice. "
   ]
  },
  {
   "cell_type": "code",
   "execution_count": null,
   "metadata": {},
   "outputs": [],
   "source": [
    "# use eli5 to show the top N features contributing to one class\n",
    "import eli5\n",
    "\n",
    "eli5. ..."
   ]
  },
  {
   "cell_type": "markdown",
   "metadata": {},
   "source": [
    "Use the eli5 function `show_prediction()` with the named step 'lin_svc' as first argument, any string as the second argument and `vec=model.named_steps['tfidv']`."
   ]
  },
  {
   "cell_type": "code",
   "execution_count": null,
   "metadata": {},
   "outputs": [],
   "source": [
    "# use eli5 to visualize the most important features for a sample text"
   ]
  },
  {
   "cell_type": "markdown",
   "metadata": {},
   "source": [
    "## send your candidate messages to the server for evaluation\n",
    "Use backdoor.py (either paste the code in here or execute it separately)"
   ]
  },
  {
   "cell_type": "markdown",
   "metadata": {},
   "source": [
    "## save your candidate messages\n",
    "Save your messages as a .csv using the code below.\n"
   ]
  },
  {
   "cell_type": "code",
   "execution_count": null,
   "metadata": {},
   "outputs": [],
   "source": [
    "messages = [['message 1'], \n",
    "            ['message 2'], \n",
    "            ['message 3'], \n",
    "            ['message 4'], \n",
    "            ['message 5'], \n",
    "            ['message 6'], \n",
    "            ['message 7']] \n",
    "df = pd.DataFrame(messages)\n",
    "df.to_csv(\"your_team.csv\", encoding='utf-8', quoting=csv.QUOTE_ALL,header=False, index=False)"
   ]
  }
 ],
 "metadata": {
  "kernelspec": {
   "display_name": "Python 3",
   "language": "python",
   "name": "python3"
  },
  "language_info": {
   "codemirror_mode": {
    "name": "ipython",
    "version": 3
   },
   "file_extension": ".py",
   "mimetype": "text/x-python",
   "name": "python",
   "nbconvert_exporter": "python",
   "pygments_lexer": "ipython3",
   "version": "3.7.2"
  }
 },
 "nbformat": 4,
 "nbformat_minor": 2
}
